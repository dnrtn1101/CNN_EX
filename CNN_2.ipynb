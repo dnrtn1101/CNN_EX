{
 "cells": [
  {
   "cell_type": "markdown",
   "metadata": {},
   "source": [
    "# CNN_tutorial 2\n",
    "\n",
    "---"
   ]
  },
  {
   "cell_type": "markdown",
   "metadata": {},
   "source": [
    "![his](./img/history.png)\n",
    "\n",
    "- Convolution Network를 활용한 최초의 논문은 Alexnet이라고 할 수 있다.\n",
    "- 그 이후 VGG, GoogleNet(inception v1)으로 발전하였고, 인간을 능가한 성능을 보인 최초의 논문이 ResNet이다."
   ]
  },
  {
   "cell_type": "markdown",
   "metadata": {},
   "source": [
    "## AlexNet\n",
    "<br>\n",
    "\n",
    "![alexnet](./img/alexnet.png)\n",
    "\n",
    "<center>AlexNet architecture</center>\n",
    "<br>\n",
    "\n",
    "- 11x11conv, 5x5conv, 3x3conv 3가지 conv를 사용하여, 총 8개의 layer(5개의 Convnet, 3개의 Densenet)로 구성되어있다.<br>\n",
    "- dropout을 사용하였다.<br>\n",
    "- horizontal flip과 random crop을 사용한 data augmentation을 적용하였다.\n",
    "\n",
    "<br>\n",
    "<br>\n",
    "\n",
    "---"
   ]
  },
  {
   "cell_type": "markdown",
   "metadata": {},
   "source": [
    "## VGG\n",
    "<br>\n",
    "\n",
    "![vgg](./img/vgg.png)\n",
    "\n",
    "<center>VGG architecture</center>\n",
    "\n",
    "- VGG는 3x3 conv만을 사용하여 사용하기 쉬운 구조와 좋은 성능으로 많은 인기를 끌었다.\n",
    "\n",
    "![vgg_contri](./img/vgg_contribution.png)\n",
    "\n",
    "- 3x3conv만을 사용한 이유는 3x3conv 2개를 사용하면 5x5conv와 같은 크기의 image field를 network가 볼 수 있고, weight의 개수가 더 적어 효율적이기 때문이다.\n",
    "<br>\n",
    "<br>\n",
    "\n",
    "---"
   ]
  },
  {
   "cell_type": "markdown",
   "metadata": {},
   "source": [
    "## ResNet\n",
    "<br>\n",
    "\n",
    "![vanishing](./img/vanishing.png)\n",
    "\n",
    "<center>vanishing problem</center>\n",
    "\n",
    "- 이전 모델들에서는 gradient값이 소실되거나 폭발하는 vanishing/exploding problem이 발생합니다. 특히 vanishing problem이 네트워크가 깊어지면 더더욱 두드러지게 되는데, 이로인해 앞부분 layer들은 학습이 거의 진행되지 않게됩니다.\n",
    "\n",
    "![res](./img/res.png)\n",
    "\n",
    "- 우리는 더 깊은 네트워크가 더 좋은 성능을 가질 것으로 기대하지만, 실제 20 layer의 네트워크가 56 layer의 네트워크보다 훈련과 테스트 모두 error값이 낮습니다.<br>\n",
    "<br>\n",
    "\n",
    "![shortcut](./img/shortcut.png)\n",
    "<center>shortcut</center>\n",
    "\n",
    "- 이러한 문제를 해결하기 위해 output에 input을 더해주는 shortcut/ skip connetion을 추가 시키는 방식을 활용합니다. 그 layer를 활용한 모델이 ResNet입니다.<br>\n",
    "<br>\n",
    "\n",
    "![resnet](./img/resnet.png)\n",
    "\n",
    "<center>resnet architecture</center>\n",
    "\n",
    "<br>\n",
    "<br>\n",
    "\n",
    "---"
   ]
  },
  {
   "cell_type": "markdown",
   "metadata": {},
   "source": [
    "## Inception V3\n",
    "<br>\n",
    "\n",
    "![inception](./img/inception.jpeg)\n",
    "\n",
    "<center>inception module</center>\n",
    "\n",
    "<br>\n",
    "\n",
    "- 여러 size로 input을 본 후 그 output들을 합쳐주면 조금 더 다양한 정보를 포함한 output을 가질 수 있다.\n",
    "- 3x3conv, 5x5conv를 지나기 전 1x1conv를 지나 Channel수를 줄여서 정보를 압축하는 효과를 가지게 된다.\n",
    "\n",
    "![1x1](./img/1x1conv.png)\n",
    "<center>example of 1x1conv</center>\n",
    "<br>\n",
    "<br>\n",
    "\n",
    "![inception_arch](./img/inception-v3-architecture.png)\n",
    "<center>Inception V3 architecture</center>\n",
    "\n",
    "<br>\n",
    "<br>\n",
    "\n",
    "---"
   ]
  },
  {
   "cell_type": "markdown",
   "metadata": {},
   "source": [
    "## EfficientNet\n",
    "\n",
    "<br>\n",
    "\n",
    "![scale](./img/scaling.PNG)\n",
    " \n",
    "- 위 그림처럼 모델의 성능을 높이기 위해서 네트워크를 깊게 쌓거나 채널을 늘리거나 이미지의 resolution을 늘리는 방식으로 한다.<br>\n",
    "- 현재까지의 저 3가지중 각각 한가지 들만을 늘려 성능을 높였다.<br>\n",
    "- 3가지를 균형있게 늘린다면 좀 더 좋은 성능을 가질 수 있을 것이라는 가정을 두었다.\n",
    "<br>\n",
    "<br>\n",
    "\n",
    "![efn_arch](./img/efn_structure.png)\n",
    "\n",
    "<center>Efficientnet0 architecture</center>\n",
    "\n",
    "- 강화학습을 이용하여 제한을 두고 3가지를 균형있게 늘려 최적의 모델을 딥러닝을 이용하여 찾았다.\n",
    "<br>\n",
    "<br>\n",
    "\n",
    "![efn_result](./img/efn_result.PNG)\n",
    "\n",
    "\n",
    "![efn_result2](./img/efn_result2.png)"
   ]
  },
  {
   "cell_type": "markdown",
   "metadata": {},
   "source": [
    "## "
   ]
  }
 ],
 "metadata": {
  "kernelspec": {
   "display_name": "torch",
   "language": "python",
   "name": "torch"
  },
  "language_info": {
   "codemirror_mode": {
    "name": "ipython",
    "version": 3
   },
   "file_extension": ".py",
   "mimetype": "text/x-python",
   "name": "python",
   "nbconvert_exporter": "python",
   "pygments_lexer": "ipython3",
   "version": "3.7.6"
  }
 },
 "nbformat": 4,
 "nbformat_minor": 4
}
